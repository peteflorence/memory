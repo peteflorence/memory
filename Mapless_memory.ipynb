{
 "metadata": {
  "name": ""
 },
 "nbformat": 3,
 "nbformat_minor": 0,
 "worksheets": [
  {
   "cells": [
    {
     "cell_type": "markdown",
     "metadata": {},
     "source": [
      "# Original motivation\n",
      "\n",
      "Our WAFR formulation would benefit from \"memory\"\n",
      "\n",
      "# General problem statement\n",
      "\n",
      "How to be able to plan outside current FOV, while properly accounting for uncertainty in state estimation, given a time-series of depth sensor measurements?\n",
      "\n",
      "Key inputs:\n",
      "\n",
      "- $\\hat{\\mathbf{x}}[i] \\ \\ \\forall i = -N_{mem}, ..., 0$, probability distribution of state for last $N_{mem}$ time steps\n",
      "- depth image for each $N_{mem}$ time steps\n",
      "\n",
      "\n"
     ]
    },
    {
     "cell_type": "markdown",
     "metadata": {},
     "source": [
      "# Approaches\n",
      "\n",
      "### Available approaches\n",
      "\n",
      "- (No memory) Constrain problem to only use current depth image, and constrain planning to be inside FOV\n",
      "\n",
      "\n",
      "- (Memory via full map, only current updates) Constrain problem to not account for probability distribution affecting the \"blurring\" of past obstacles\n",
      "\n",
      "\n",
      "- (Memory via full map, blur all measurements) Leak each voxel on each time step.  Must touch each voxel on each time step.\n",
      "\n",
      "\n",
      "- (Memory via full map, allowing for loop closure) Worst case, entire new map is built with each pose graph solve.  Would touch each $N_{mem} \\cdot N_{points}$ on each new measurement.\n",
      "\n",
      "\n",
      "Available approaches either don't use memory, or don't address position uncertainty over time affecting obstacle configurations in a satisfactory way.\n",
      "\n",
      "### Proposed method\n",
      "\n",
      "- (Memory, but no map) Allow memory, and be able to use uncertainty, without $N_{mem} \\cdot N_{points}$ complexity for each step\n",
      "\n",
      "\n",
      "We can use our WAFR method, with one small added step of minimal complexity, to incorporate memory and rigorously reason about uncertainty."
     ]
    },
    {
     "cell_type": "markdown",
     "metadata": {},
     "source": [
      "# Algorithm description\n",
      "\n",
      "- Similar to WAFR paper, build kd-tree and do P(Collision) approximations\n",
      "- Modification to use memory\n",
      "    - Store all recent depth measurement kd-trees in a stack\n",
      "    - For each sampled future configuration, do down the stack and check IsInFOV?()\n",
      "    - Use most recent depth measurement inside FOV, and allow for pose uncertainty in transform between current pose and pose of depth measurement\n",
      "    \n",
      "- Instead of:\n",
      "\n",
      "    $$\\mathbf{p}_i(t) \\sim \\mathcal{N} \\big( \\frac{1}{2}\\mathbf{a}_it^2 + \\mathbf{v}_{0, \\mu}t, t^2 \\Sigma_{v_0} \\big) $$\n",
      "    \n",
      "    where $\\mathbf{p}_0 = 0$ is exploited\n",
      "    \n",
      "- Now use \n",
      "\n",
      "    $$\\mathbf{p}_i(t) \\sim \\mathcal{N} \\big( \\frac{1}{2}\\mathbf{a}_it^2 + \\mathbf{v}_{0, \\mu}t + \\mathbf{p}_{0, \\mu}, t^2 \\Sigma_{v_0} + \\Sigma_{p_0} \\big) $$\n",
      "    \n",
      "    where $\\mathbf{p}_0$ is the current pose, in the frame of the depth measurement used"
     ]
    },
    {
     "cell_type": "markdown",
     "metadata": {},
     "source": [
      "# Complexity analysis\n",
      "\n",
      "#### Parameters\n",
      "\n",
      "_Sensor parameters_\n",
      "- $N_{points}$ = # points in each point cloud\n",
      "- $N_{mem}$ = # of point clouds to remember\n",
      "\n",
      "_Motion planning parameters_\n",
      "- $N_{samples}$ = # sampled configurations for motion planning\n",
      "\n",
      "_Map parameters_\n",
      "- $N_{voxels}$ = # of voxels in map\n",
      "\n",
      "\n",
      "##### Complexities\n",
      "\n",
      "- (No memory) -- known to be ~1 ms latency for FLA system\n",
      "\n",
      "    $$F(N_{points}) \\ \\  + \\ \\  N_{samples} \\cdot F(N_{points}) $$ \n",
      "    \n",
      "---\n",
      "    \n",
      "- (Memory, but no map)\n",
      "\n",
      "    $$F(N_{points}) \\ \\  +  \\ \\ N_{samples} \\cdot N_{mem} * K_{FOV check} \\ \\   + \\ \\  N_{samples} \\cdot F(N_{points}) $$\n",
      "    \n",
      "   \n",
      "---\n",
      "   \n",
      "- (Memory via full map, only current updates) -- known to be ~100 ms latency for FLA system\n",
      "\n",
      "    $$F(N_{points}, N_{voxels}) + N_{samples}*K_{lookup}$$ \n",
      "    \n",
      "    \n",
      "---\n",
      "    \n",
      "- (Memory via full map, allowing for loop closure)\n",
      "\n",
      "    $$F(N_{points}*N_{mem}, N_{voxels}) + N_{samples}*K_{lookup}$$"
     ]
    },
    {
     "cell_type": "code",
     "collapsed": false,
     "input": [],
     "language": "python",
     "metadata": {},
     "outputs": []
    }
   ],
   "metadata": {}
  }
 ]
}